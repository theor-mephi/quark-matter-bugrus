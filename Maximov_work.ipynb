{
 "cells": [
  {
   "cell_type": "code",
   "execution_count": 2,
   "metadata": {},
   "outputs": [
    {
     "name": "stderr",
     "output_type": "stream",
     "text": [
      "/home/nbuser/anaconda3_410/lib/python3.5/site-packages/matplotlib/font_manager.py:273: UserWarning: Matplotlib is building the font cache using fc-list. This may take a moment.\n",
      "  warnings.warn('Matplotlib is building the font cache using fc-list. This may take a moment.')\n",
      "/home/nbuser/anaconda3_410/lib/python3.5/site-packages/matplotlib/font_manager.py:273: UserWarning: Matplotlib is building the font cache using fc-list. This may take a moment.\n",
      "  warnings.warn('Matplotlib is building the font cache using fc-list. This may take a moment.')\n"
     ]
    }
   ],
   "source": [
    "import math as math\n",
    "import matplotlib.pyplot as plt\n",
    "import numpy as np\n",
    "import scipy.integrate as integrate\n",
    "import scipy.optimize as optimize\n",
    "%matplotlib inline"
   ]
  },
  {
   "cell_type": "markdown",
   "metadata": {},
   "source": [
    "bare quark mass without dimension: $\\frac{m}{\\Lambda}=\\frac{2.177 MeV}{891 MeV}$"
   ]
  },
  {
   "cell_type": "markdown",
   "metadata": {},
   "source": [
    "unity of lenth without dimension: $fm\\cdot\\Lambda=\\frac{891 MeV}{197.33 MeV}$"
   ]
  },
  {
   "cell_type": "code",
   "execution_count": 3,
   "metadata": {
    "collapsed": true
   },
   "outputs": [],
   "source": [
    "m=2.177/891 #m/lambda\n",
    "fm=891/197.33 #lambda/197.33MeV"
   ]
  },
  {
   "cell_type": "markdown",
   "metadata": {},
   "source": [
    "effective mass: $m^*(x,\\phi)=m+\\phi e^{-x^2}$"
   ]
  },
  {
   "cell_type": "code",
   "execution_count": 4,
   "metadata": {
    "collapsed": true
   },
   "outputs": [],
   "source": [
    "def mstar(x,phi):\n",
    "    M=m+phi*math.exp(-x*x)\n",
    "    return M"
   ]
  },
  {
   "cell_type": "code",
   "execution_count": 117,
   "metadata": {},
   "outputs": [
    {
     "data": {
      "text/plain": [
       "[<matplotlib.lines.Line2D at 0x7fb5fe167198>,\n",
       " <matplotlib.lines.Line2D at 0x7fb5fe1673c8>,\n",
       " <matplotlib.lines.Line2D at 0x7fb5fe167d30>]"
      ]
     },
     "execution_count": 117,
     "metadata": {},
     "output_type": "execute_result"
    },
    {
     "data": {
      "image/png": "[encoded data removed]",
      "text/plain": [
       "<matplotlib.figure.Figure at 0x7fb5fe206550>"
      ]
     },
     "metadata": {},
     "output_type": "display_data"
    }
   ],
   "source": [
    "x_range = np.linspace(0, 4, 100)\n",
    "plt.ylabel('effective mass')\n",
    "plt.xlabel('momentum')\n",
    "plt.plot(x_range, [mstar(x,0.368) for x in x_range],x_range, [mstar(y,0.468) for y in x_range],'--',x_range, [mstar(z,0.268) for z in x_range],'--')"
   ]
  },
  {
   "cell_type": "markdown",
   "metadata": {},
   "source": [
    "energy: $E(x,\\phi)=\\sqrt{x^2+m^{*2}(x,\\phi)}$"
   ]
  },
  {
   "cell_type": "code",
   "execution_count": 6,
   "metadata": {
    "collapsed": true
   },
   "outputs": [],
   "source": [
    "def E(x,phi):\n",
    "    E=math.sqrt(x*x+mstar(x,phi)*mstar(x,phi))\n",
    "    return E"
   ]
  },
  {
   "cell_type": "code",
   "execution_count": 112,
   "metadata": {},
   "outputs": [
    {
     "data": {
      "text/plain": [
       "[<matplotlib.lines.Line2D at 0x7fb5fe355d68>,\n",
       " <matplotlib.lines.Line2D at 0x7fb5fe355f98>,\n",
       " <matplotlib.lines.Line2D at 0x7fb5fe35c908>]"
      ]
     },
     "execution_count": 112,
     "metadata": {},
     "output_type": "execute_result"
    },
    {
     "data": {
      "image/png": "[encoded data removed]",
      "text/plain": [
       "<matplotlib.figure.Figure at 0x7fb5fe47c400>"
      ]
     },
     "metadata": {},
     "output_type": "display_data"
    }
   ],
   "source": [
    "x_range = np.linspace(0, 4, 100)\n",
    "plt.ylabel('effective energy')\n",
    "plt.xlabel('momentum')\n",
    "plt.plot(x_range, [E(x,0.368) for x in x_range],x_range, [E(y,0.468) for y in x_range],'--',x_range, [E(z,0.268) for z in x_range],'--')"
   ]
  },
  {
   "cell_type": "code",
   "execution_count": 8,
   "metadata": {
    "collapsed": true
   },
   "outputs": [],
   "source": [
    "def integrand(x,phi):\n",
    "    Func=12*3.881/math.pi/math.pi*x*x*math.exp(-x*x)*mstar(x,phi)/E(x,phi)\n",
    "    return Func"
   ]
  },
  {
   "cell_type": "markdown",
   "metadata": {},
   "source": [
    "$||\\frac{\\partial \\Omega}{\\partial\\phi}||=|\\ \\phi-\\frac{12*3.881}{\\pi^2}\\int_0^\\infty\\frac{m^*(x,\\phi)}{E(x,\\phi)}x^2e^{-x^2}dx\\ |$"
   ]
  },
  {
   "cell_type": "code",
   "execution_count": 81,
   "metadata": {
    "collapsed": true
   },
   "outputs": [],
   "source": [
    "def Norm(phi,x0):\n",
    "    N,err=integrate.quad(integrand,0,x0,args=(phi))\n",
    "    N=phi-N\n",
    "    return abs(N)\n",
    "#minimum is in 0.368"
   ]
  },
  {
   "cell_type": "code",
   "execution_count": 164,
   "metadata": {
    "scrolled": true
   },
   "outputs": [
    {
     "data": {
      "text/plain": [
       "0.36801804508311897"
      ]
     },
     "execution_count": 164,
     "metadata": {},
     "output_type": "execute_result"
    }
   ],
   "source": [
    "z=optimize.minimize(Norm,0.3,args=(np.inf), tol=1e-14)\n",
    "z.x[0]"
   ]
  },
  {
   "cell_type": "markdown",
   "metadata": {},
   "source": [
    "$\\phi_0=0.36685348307811044$"
   ]
  },
  {
   "cell_type": "code",
   "execution_count": 168,
   "metadata": {},
   "outputs": [
    {
     "data": {
      "text/plain": [
       "[<matplotlib.lines.Line2D at 0x7fb5f9bdf588>]"
      ]
     },
     "execution_count": 168,
     "metadata": {},
     "output_type": "execute_result"
    },
    {
     "data": {
      "image/png": "[encoded data removed]",
      "text/plain": [
       "<matplotlib.figure.Figure at 0x7fb5f9c16978>"
      ]
     },
     "metadata": {},
     "output_type": "display_data"
    }
   ],
   "source": [
    "x_range=np.linspace(0,1,100)\n",
    "plt.plot(x_range,[Norm(a,20) for a in x_range])"
   ]
  },
  {
   "cell_type": "code",
   "execution_count": 162,
   "metadata": {},
   "outputs": [
    {
     "ename": "SyntaxError",
     "evalue": "invalid syntax (<ipython-input-162-ab6cfddbdcd1>, line 4)",
     "output_type": "error",
     "traceback": [
      "\u001b[0;36m  File \u001b[0;32m\"<ipython-input-162-ab6cfddbdcd1>\"\u001b[0;36m, line \u001b[0;32m4\u001b[0m\n\u001b[0;31m    plt.plot(x_range, [en(x,0.368,0.3) for x in x_range],x_range, [en(y,0.368,0.4) for y in x_range],'--',x_range, [en(z,0.368,0.5) for z in x_range],'--')\u001b[0m\n\u001b[0m      ^\u001b[0m\n\u001b[0;31mSyntaxError\u001b[0m\u001b[0;31m:\u001b[0m invalid syntax\n"
     ]
    }
   ],
   "source": [
    "en = lambda x,phi, mu: abs(E(x,phi)-mu)\n",
    "x_range = np.linspace(0, 4, 100)\n",
    "z=[optimize.minimize(en,)\n",
    "plt.plot(x_range, [en(x,0.368,0.3) for x in x_range],x_range, [en(y,0.368,0.4) for y in x_range],'--',x_range, [en(z,0.368,0.5) for z in x_range],'--')"
   ]
  },
  {
   "cell_type": "code",
   "execution_count": 135,
   "metadata": {
    "collapsed": true
   },
   "outputs": [],
   "source": [
    "def x_fermi(mu,phi):\n",
    "    Func= lambda x: E(x,phi)-mu\n",
    "    zz=optimize.minimize(Func,1,tol=1e-14)\n",
    "    return zz.x[0]"
   ]
  },
  {
   "cell_type": "code",
   "execution_count": 149,
   "metadata": {},
   "outputs": [
    {
     "data": {
      "text/plain": [
       "[<matplotlib.lines.Line2D at 0x7fb5fdba2e80>]"
      ]
     },
     "execution_count": 149,
     "metadata": {},
     "output_type": "execute_result"
    },
    {
     "data": {
      "image/png": "[encoded data removed]",
      "text/plain": [
       "<matplotlib.figure.Figure at 0x7fb5fdc4ea90>"
      ]
     },
     "metadata": {},
     "output_type": "display_data"
    }
   ],
   "source": [
    "Func= lambda x,phi,mu: E(x,phi)-mu\n",
    "x_range=np.linspace(0,1,100)\n",
    "plt.plot(x_range,[Func(a,0.368,0.3) for a in x_range])"
   ]
  },
  {
   "cell_type": "code",
   "execution_count": 152,
   "metadata": {},
   "outputs": [
    {
     "data": {
      "text/plain": [
       "[<matplotlib.lines.Line2D at 0x7fb5fda50c50>]"
      ]
     },
     "execution_count": 152,
     "metadata": {},
     "output_type": "execute_result"
    },
    {
     "data": {
      "image/png": "[encoded data removed]",
      "text/plain": [
       "<matplotlib.figure.Figure at 0x7fb5fdb497f0>"
      ]
     },
     "metadata": {},
     "output_type": "display_data"
    }
   ],
   "source": [
    "x_range=np.linspace(0,1,100)\n",
    "plt.plot(x_range,[x_fermi(0,a) for a in x_range])"
   ]
  },
  {
   "cell_type": "markdown",
   "metadata": {},
   "source": [
    "Запрогать Омега(фи, мю), где мю - свободная переменная.\n",
    "plt.plot(phi_range, [Norm(phi,np.inf) for phi in phi_range])\n"
   ]
  }
 ],
 "metadata": {
  "kernelspec": {
   "display_name": "Python 3",
   "language": "python",
   "name": "python3"
  },
  "language_info": {
   "codemirror_mode": {
    "name": "ipython",
    "version": 3
   },
   "file_extension": ".py",
   "mimetype": "text/x-python",
   "name": "python",
   "nbconvert_exporter": "python",
   "pygments_lexer": "ipython3",
   "version": "3.5.1"
  }
 },
 "nbformat": 4,
 "nbformat_minor": 2
}
